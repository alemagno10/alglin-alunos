{
 "cells": [
  {
   "cell_type": "code",
   "execution_count": 1,
   "metadata": {},
   "outputs": [
    {
     "data": {
      "text/plain": [
       "array([[2.5804, 2.6836, 2.9106, 3.4909, 2.0757, 2.4393, 2.3691, 3.8272,\n",
       "        2.1925, 2.0625, 2.7109, 2.8163],\n",
       "       [2.289 , 2.0666, 2.4397, 3.3524, 2.1253, 2.3495, 1.4402, 3.0238,\n",
       "        1.9526, 2.3071, 2.515 , 2.3189],\n",
       "       [2.4738, 3.3069, 2.7293, 2.8951, 2.2547, 2.3187, 2.7219, 3.3724,\n",
       "        2.3848, 2.1273, 2.6197, 2.0145],\n",
       "       [2.5231, 2.7515, 2.844 , 3.363 , 2.7895, 2.6899, 2.2235, 3.4944,\n",
       "        2.7095, 2.5958, 3.0932, 2.329 ],\n",
       "       [3.1936, 4.0655, 3.6721, 3.5615, 2.7208, 3.0797, 3.1052, 3.8717,\n",
       "        2.9363, 2.7933, 3.5231, 2.3814],\n",
       "       [3.1787, 3.7332, 3.4106, 3.2546, 2.5616, 3.0071, 2.8166, 3.5255,\n",
       "        2.8537, 3.0605, 3.6201, 2.2509],\n",
       "       [3.5252, 3.9013, 3.9912, 4.1469, 3.5261, 3.3836, 3.2213, 4.6011,\n",
       "        3.8729, 3.7484, 4.6299, 3.6055],\n",
       "       [2.1189, 2.3876, 2.2614, 2.8592, 2.3651, 2.2672, 2.2434, 2.9515,\n",
       "        2.464 , 1.8281, 2.5975, 2.1679],\n",
       "       [1.7909, 1.7788, 2.429 , 2.669 , 2.3183, 2.2246, 1.5129, 2.6322,\n",
       "        2.3966, 2.1893, 3.12  , 2.1578],\n",
       "       [3.2648, 3.4945, 3.0912, 2.9836, 2.2527, 2.6628, 2.625 , 3.5314,\n",
       "        2.4085, 3.0739, 2.9743, 2.1629],\n",
       "       [3.6475, 3.4187, 4.1197, 3.8783, 2.5496, 3.1188, 2.626 , 4.2431,\n",
       "        2.8414, 3.5069, 4.141 , 3.3704]])"
      ]
     },
     "execution_count": 1,
     "metadata": {},
     "output_type": "execute_result"
    }
   ],
   "source": [
    "import numpy as np\n",
    "\n",
    "A = np.array([[0.52, 0.90, 0.35, 0.57, 0.33, 0.85, 0.43, 0.81, 0.02, 0.19, 0.91], [0.18, 0.72, 0.29, 0.10, 0.22, 0.67, 0.43, 0.19, 0.35, 0.95, 0.69], [0.44, 0.49, 0.53, 0.13, 0.74, 0.71, 0.89, 0.68, 0.27, 0.09, 0.49], [0.27, 0.47, 0.41, 0.38, 0.50, 0.40, 0.95, 0.35, 0.54, 0.86, 0.46], [0.73, 0.44, 0.94, 0.53, 0.89, 0.87, 0.91, 0.57, 0.22, 0.38, 0.11], [0.81, 0.41, 0.84, 0.00, 0.98, 0.77, 0.56, 0.59, 0.47, 0.52, 0.30], [0.44, 0.72, 0.99, 0.82, 0.82, 0.42, 0.70, 0.99, 0.98, 0.32, 0.83], [0.57, 0.32, 0.32, 0.73, 0.26, 0.79, 0.54, 0.53, 0.59, 0.00, 0.50], [0.63, 0.60, 0.23, 0.42, 0.34, 0.06, 0.39, 0.15, 0.78, 0.80, 0.16], [0.11, 0.23, 0.93, 0.14, 0.96, 0.62, 0.64, 0.81, 0.12, 0.46, 0.77], [0.33, 0.82, 0.96, 0.88, 0.87, 0.48, 0.28, 0.82, 0.24, 0.77, 0.59]])\n",
    "B = np.array([[0.14, 0.37, 0.44, 0.33, 0.54, 0.75, 0.47, 0.57, 0.67, 0.30, 0.82, 0.14], [0.00, 0.39, 0.80, 0.94, 0.06, 0.03, 0.10, 0.76, 0.07, 0.03, 0.52, 1.00], [0.53, 0.99, 0.67, 0.58, 0.41, 0.57, 0.02, 0.29, 0.58, 0.98, 0.67, 0.33], [0.42, 0.07, 0.60, 0.54, 0.47, 0.42, 0.34, 0.62, 0.38, 0.29, 0.66, 0.66], [0.93, 0.98, 0.94, 0.05, 0.19, 0.37, 0.93, 0.57, 0.08, 0.87, 0.90, 0.14], [0.80, 0.74, 0.41, 0.96, 0.23, 0.51, 0.52, 0.45, 0.15, 0.12, 0.05, 0.33], [0.04, 0.91, 0.29, 0.66, 0.91, 0.45, 0.79, 0.90, 0.72, 0.01, 0.12, 0.05], [0.68, 0.37, 0.46, 0.15, 0.01, 0.19, 0.77, 0.72, 0.65, 0.06, 0.35, 0.60], [0.19, 0.19, 0.15, 0.48, 0.90, 0.37, 0.24, 0.13, 0.99, 0.60, 0.93, 0.54], [0.89, 0.13, 0.76, 0.89, 0.52, 0.86, 0.04, 0.73, 0.51, 0.90, 0.83, 0.56], [0.39, 0.09, 0.09, 0.60, 0.61, 0.56, 0.12, 0.78, 0.28, 0.82, 0.39, 0.44]])\n",
    "X = A@B\n",
    "X"
   ]
  },
  {
   "cell_type": "code",
   "execution_count": 4,
   "metadata": {},
   "outputs": [
    {
     "data": {
      "text/plain": [
       "array([[ 5.05837912, -5.91231685],\n",
       "       [-1.82348901,  2.81021062]])"
      ]
     },
     "execution_count": 4,
     "metadata": {},
     "output_type": "execute_result"
    }
   ],
   "source": [
    "A = np.array([[1.90, 1.20], [0.60, 1.20]])\n",
    "B = np.array([[1.70, 0.60], [1.50, 0.20]])\n",
    "C = np.array([[0.60, 1.90], [1.80, 0.70]])\n",
    "\n",
    "X = C @ np.linalg.inv(A) @ np.linalg.inv(B)\n",
    "X"
   ]
  },
  {
   "cell_type": "code",
   "execution_count": null,
   "metadata": {},
   "outputs": [],
   "source": [
    "import numpy.linalg as lin\n",
    "\n",
    "A = np.array([[1.20, 1.60], [0.10, 1.30]])\n",
    "B = np.array([[0.90, 1.90], [2.00, 1.40]])\n",
    "C = np.array([[0.90, 0.70], [0.60, 0.00]])\n",
    "\n",
    "X = C @ lin.inv(A)"
   ]
  },
  {
   "cell_type": "code",
   "execution_count": 39,
   "metadata": {},
   "outputs": [
    {
     "data": {
      "text/plain": [
       "array([[ 2.31608298],\n",
       "       [-0.59727164],\n",
       "       [-4.27190073],\n",
       "       [ 0.9814226 ],\n",
       "       [ 1.1262633 ],\n",
       "       [-0.69093946],\n",
       "       [ 1.16854876]])"
      ]
     },
     "execution_count": 39,
     "metadata": {},
     "output_type": "execute_result"
    }
   ],
   "source": [
    "A = np.array([[9.3, 3.7, 4.8, 3.0, 2.2, 8.2, 1.3],\n",
    "[0.8, 5.3, 2.9, 8.4, 2.7, 7.4, 6.7], \n",
    "[9.4, 1.9, 8.5, 5.1, 9.9, 5.6, 2.9], \n",
    "[7.2, 9.5, 4.0, 4.6, 7.3, 9.9, 3.5], \n",
    "[8.1, 7.6, 5.1, 5.4, 3.2, 1.4, 6.7],   \n",
    "[2.8, 7.9, 4.0, 5.8, 6.9, 2.8, 4.7],\n",
    "[6.6, 7.6, 6.9, 2.1, 9.9, 2.6, 7.8]])\n",
    "\n",
    "B = np.array([[0.1], [0.3], [0.0], [3.9], [8.2], [1.7], [1.8]])\n",
    "X = np.linalg.solve(A,B)\n",
    "X\n",
    "\n"
   ]
  },
  {
   "cell_type": "code",
   "execution_count": 45,
   "metadata": {},
   "outputs": [
    {
     "name": "stdout",
     "output_type": "stream",
     "text": [
      "[8, 6, 5, 4, 2]\n"
     ]
    }
   ],
   "source": [
    "V=[4,2,5,6,8]\n",
    "for i in range(len(V)):\n",
    "    for j in range(len(V)):\n",
    "        if V[j]<V[i]:\n",
    "            V[i], V[j] = V[j], V[i]\n",
    "print(V)"
   ]
  },
  {
   "cell_type": "code",
   "execution_count": 47,
   "metadata": {},
   "outputs": [
    {
     "data": {
      "text/plain": [
       "array([[-1.01515066,  4.31308157],\n",
       "       [ 0.46853581, -1.9880857 ]])"
      ]
     },
     "execution_count": 47,
     "metadata": {},
     "output_type": "execute_result"
    }
   ],
   "source": [
    "import numpy as np\n",
    "\n",
    "A = np.array([[1.20, 1.60], [0.10, 1.30]])\n",
    "B = np.array([[0.90, 1.90], [2.00, 1.40]])\n",
    "C = np.array([[0.90, 0.70], [0.60, 0.00]])\n",
    "\n",
    "Total = A@B@A@B@B@A@B@A\n",
    "X = np.linalg.inv(Total) @ C\n",
    "X"
   ]
  },
  {
   "cell_type": "code",
   "execution_count": 26,
   "metadata": {},
   "outputs": [
    {
     "data": {
      "image/png": "[encoded data removed]",
      "text/plain": [
       "<Figure size 640x480 with 1 Axes>"
      ]
     },
     "metadata": {},
     "output_type": "display_data"
    }
   ],
   "source": [
    "import matplotlib.pyplot as plt\n",
    "import numpy as np\n",
    "\n",
    "x = np.vstack((np.random.uniform(-0.5, 0.5, size=(2, 600)), np.ones((1,600))))\n",
    "A = np.array([[1, 0, -1], [0, 1, 1], [0, 0, 1]]) # limitehorizotal, size, verticalsize, rotacao\n",
    "B = np.array([[1.5,0,0],[0,1,0],[0,0,1]]) \n",
    "x = A @ B @ x\n",
    "plt.figure()\n",
    "plt.scatter(x[0,:], x[1,:], s=1, c='r')\n",
    "plt.xlim([-2, 2])\n",
    "plt.ylim([-2, 2])\n",
    "plt.grid()\n",
    "plt.show()"
   ]
  }
 ],
 "metadata": {
  "kernelspec": {
   "display_name": "Python 3",
   "language": "python",
   "name": "python3"
  },
  "language_info": {
   "codemirror_mode": {
    "name": "ipython",
    "version": 3
   },
   "file_extension": ".py",
   "mimetype": "text/x-python",
   "name": "python",
   "nbconvert_exporter": "python",
   "pygments_lexer": "ipython3",
   "version": "3.11.1"
  },
  "orig_nbformat": 4,
  "vscode": {
   "interpreter": {
    "hash": "a0a68193c040182b386bff8152352f10de271013bfd51585d2ce3cd89f39bece"
   }
  }
 },
 "nbformat": 4,
 "nbformat_minor": 2
}
