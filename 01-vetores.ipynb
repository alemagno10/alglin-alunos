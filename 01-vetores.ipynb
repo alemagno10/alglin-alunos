{
 "cells": [
  {
   "cell_type": "markdown",
   "metadata": {},
   "source": [
    "# Usando vetores para modelar movimentos em ambientes de jogos digitais\n",
    "\n",
    "Ao fim deste capítulo, o aluno será capaz de:\n",
    "1. Aplicar vetores, soma e subtração de vetores e produto de vetor por escalar para modelar ambientes de jogos em substituição a usar variáveis individuais e implementações adhoc.\n",
    "2. Usar representação polar e retangular para simplicar o modelamento de movimentos rotacionais. Normalizar o módulo de vetores para controlar velocidades em ambiente de jogo.\n",
    "3. Aplicar os conceitos de módulo, distância, direção e linearidade para gerar movimento em elementos virtuais.\n",
    "4. Produzir código-fonte que implementa um modelo de física newtoniana descrito somente matematicamente.\n",
    "\n",
    "Duração estimada: 6h para a exposição + 4h para o projeto"
   ]
  },
  {
   "cell_type": "code",
   "execution_count": 1,
   "metadata": {},
   "outputs": [
    {
     "name": "stdout",
     "output_type": "stream",
     "text": [
      "pygame 2.1.3.dev8 (SDL 2.0.22, Python 3.11.1)\n",
      "Hello from the pygame community. https://www.pygame.org/contribute.html\n"
     ]
    }
   ],
   "source": [
    "# Pacotes necessários. Resolva essas dependências antes de prosseguir!\n",
    "import matplotlib.pyplot as plt\n",
    "import numpy as np\n",
    "import pygame\n",
    "from pygame.locals import *"
   ]
  },
  {
   "cell_type": "markdown",
   "metadata": {},
   "source": [
    "# Usar vetores em PyGame e em sua notação matemática"
   ]
  },
  {
   "cell_type": "markdown",
   "metadata": {},
   "source": [
    "## Exercício 1: alterar código de um jogo em PyGame para controlar movimentação do personagem\n",
    "\n",
    "Nesta exposição, usaremos o pacote PyGame para executar uma série de simulações em tempo real.\n",
    "\n",
    "1. Analise o código abaixo. Verifique se há alguma instrução que você nunca usou ou não se lembra para que serve, e, se for o caso, pergunte.\n",
    "2. Execute o código. Você deve ver um pequeno ponto verde navegando pela tela.\n",
    "3. Após executar, encontre o trecho de código que define a direção e a velocidade do ponto na tela. Modifique esse trecho para que, ao invés de ir para a esquerda e para cima, o personagem vá para a *direita* e para cima, mantendo a mesma velocidade. Teste seu código."
   ]
  },
  {
   "cell_type": "code",
   "execution_count": 3,
   "metadata": {},
   "outputs": [
    {
     "ename": "NameError",
     "evalue": "name 'dx' is not defined",
     "output_type": "error",
     "traceback": [
      "\u001b[1;31m---------------------------------------------------------------------------\u001b[0m",
      "\u001b[1;31mNameError\u001b[0m                                 Traceback (most recent call last)",
      "Cell \u001b[1;32mIn[3], line 32\u001b[0m\n\u001b[0;32m     29\u001b[0m clock\u001b[39m.\u001b[39mtick(FPS)\n\u001b[0;32m     31\u001b[0m \u001b[39m# Processar posicoes\u001b[39;00m\n\u001b[1;32m---> 32\u001b[0m dx \u001b[39m=\u001b[39m dx \u001b[39m*\u001b[39m \u001b[39m0.99\u001b[39m \u001b[39m# Velocidade e direção horizontal\u001b[39;00m\n\u001b[0;32m     33\u001b[0m dy \u001b[39m=\u001b[39m dy \u001b[39m*\u001b[39m \u001b[39m0.99\u001b[39m \u001b[39m# Velocidade e direção vertical\u001b[39;00m\n\u001b[0;32m     34\u001b[0m x \u001b[39m=\u001b[39m x \u001b[39m+\u001b[39m dx \u001b[39m# Movimento uniforme!\u001b[39;00m\n",
      "\u001b[1;31mNameError\u001b[0m: name 'dx' is not defined"
     ]
    },
    {
     "ename": "",
     "evalue": "",
     "output_type": "error",
     "traceback": [
      "\u001b[1;31mThe Kernel crashed while executing code in the the current cell or a previous cell. Please review the code in the cell(s) to identify a possible cause of the failure. Click <a href='https://aka.ms/vscodeJupyterKernelCrash'>here</a> for more info. View Jupyter <a href='command:jupyter.viewOutput'>log</a> for further details."
     ]
    }
   ],
   "source": [
    "pygame.init()\n",
    "\n",
    "# Tamanho da tela e definição do FPS\n",
    "screen = pygame.display.set_mode((400, 400))\n",
    "clock = pygame.time.Clock()\n",
    "FPS = 60  # Frames per Second\n",
    "\n",
    "BLACK = (0, 0, 0)\n",
    "COR_PERSONAGEM = 'red'\n",
    "\n",
    "# Inicializar posicoes\n",
    "x0 = 200 # Posição inicial - eixo horizontal\n",
    "y0 = 200 # Posição inicial - eixo vertical\n",
    "x = x0\n",
    "y = y0\n",
    "\n",
    "# Personagem\n",
    "personagem = pygame.Surface((5, 5))  # Tamanho do personagem\n",
    "personagem.fill(COR_PERSONAGEM)  # Cor do personagem\n",
    "\n",
    "rodando = True\n",
    "while rodando:\n",
    "    # Capturar eventos\n",
    "    for event in pygame.event.get():\n",
    "        if event.type == pygame.QUIT:\n",
    "            rodando = False\n",
    "\n",
    "    # Controlar frame rate\n",
    "    clock.tick(FPS)\n",
    "\n",
    "    # Processar posicoes\n",
    "    dx = dx * 0.99 # Velocidade e direção horizontal\n",
    "    dy = dy * 0.99 # Velocidade e direção vertical\n",
    "    x = x + dx # Movimento uniforme!\n",
    "    y = y + dy # Movimento uniforme!\n",
    "    if x<10 or x>390 or y<10 or y>390: # Se eu chegar ao limite da tela, reinicio a posição do personagem\n",
    "        x, y = x0, y0\n",
    "\n",
    "    # Desenhar fundo\n",
    "    #screen.fill(BLACK)\n",
    "\n",
    "    # Desenhar personagem\n",
    "    rect = pygame.Rect((x, y), (10, 10))  # First tuple is position, second is size.\n",
    "    screen.blit(personagem, rect)\n",
    "\n",
    "    # Update!\n",
    "    pygame.display.update()\n",
    "\n",
    "# Terminar tela\n",
    "pygame.quit()"
   ]
  },
  {
   "cell_type": "code",
   "execution_count": null,
   "metadata": {},
   "outputs": [],
   "source": []
  },
  {
   "cell_type": "markdown",
   "metadata": {},
   "source": [
    "## Exercício 2: relacionar a implementação de movimentos em Python à sua notação matemática\n",
    "\n",
    "No código acima, passamos várias vezes pelo laço `while rodando`. Cada uma dessas passagens é chamada de *iteração*. Podemos contar nossas iterações usando um índice `n`, que usamos para diferenciar, por exemplo, a primeira iteração da segunda iteração. O índice não precisa ser necessariamente declarado como uma variável no código se não formos usá-lo explicitamente.\n",
    "\n",
    "No código de nossa iteração, encontramos a passagem:\n",
    "\n",
    "`x = x + dx # Movimento uniforme!`\n",
    "\n",
    "Matematicamente, podemos expressar essa passagem como:\n",
    "\n",
    "$$\n",
    "x_n = x_{n-1} + \\Delta x,\n",
    "$$\n",
    "\n",
    "significando que $x$ na iteração $n$ (atual) deve ser igual ao valor de $x$ na iteração $n-1$ (anterior) somado de $\\Delta x$ ($\\Delta$ é a letra grega \"Delta\", e $\\Delta x$ é lido como \"Delta x\"). Nessa notação, podemos nos referir ao valor inicial de $x$ como $x_0$, a aos valores ao longo das iterações como $x_1$, $x_2$, $x_3$ e assim por diante.\n",
    "\n",
    "Modifique o código acima de forma que $\\Delta x$ mude ao longo das iterações da seguinte forma:\n",
    "\n",
    "$$\n",
    "\\begin{align*}\n",
    "\\Delta x_0 &=& 1\\\\\n",
    "\\Delta x_n &=& 0.99 (\\Delta x_{n-1}) \n",
    "\\end{align*}\n",
    "$$\n"
   ]
  },
  {
   "cell_type": "markdown",
   "metadata": {},
   "source": [
    "## Exercício 3: explicar como vetores do `numpy` podem representar várias dimensões simultaneamente\n",
    "\n",
    "O código abaixo usa a estrutura `array` do pacote `numpy` para representar a posição e a velocidade do ponto no jogo que analisamos anteriormente. Junto a uma equipe, explique:\n",
    "\n",
    "1. Como um `array` é usado para representar duas dimensões? Dica: se ficar em dúvida, coloque esse código lado a lado com o código do exercício 1.\n",
    "2. Como é a notação para acessar um elemento específico (uma dimensão, ou um eixo) de um `array`?\n",
    "3. Quando somamos dois `array`s, quais são os elementos do `array` resultante?\n",
    "4. Modifique o código baseado em `array`s para que o personagem ande *para baixo e para a direita* com o dobro da velocidade que está andando originalmente."
   ]
  },
  {
   "cell_type": "code",
   "execution_count": null,
   "metadata": {},
   "outputs": [],
   "source": [
    "import numpy as np\n",
    "import pygame\n",
    "from pygame.locals import *\n",
    "\n",
    "pygame.init()\n",
    "\n",
    "# Tamanho da tela e definição do FPS\n",
    "screen = pygame.display.set_mode((400, 400))\n",
    "clock = pygame.time.Clock()\n",
    "FPS = 60  # Frames per Second\n",
    "\n",
    "BLACK = (0, 0, 0)\n",
    "COR_PERSONAGEM = (30, 200, 20)\n",
    "\n",
    "# Inicializar posicoes\n",
    "s0 = np.array([100,300])\n",
    "v = np.array([1,-1])\n",
    "s = s0\n",
    "\n",
    "# Personagem\n",
    "personagem = pygame.Surface((5, 5))  # Tamanho do personagem\n",
    "personagem.fill(COR_PERSONAGEM)  # Cor do personagem\n",
    "\n",
    "rodando = True\n",
    "while rodando:\n",
    "    # Capturar eventos\n",
    "    for event in pygame.event.get():\n",
    "        if event.type == pygame.QUIT:\n",
    "            rodando = False\n",
    "\n",
    "    # Controlar frame rate\n",
    "    clock.tick(FPS)\n",
    "\n",
    "    # Processar posicoes\n",
    "    s = s + v*0.99\n",
    "    if s[0]<10 or s[0]>390 or s[1]<10 or s[1]>390: # Se eu chegar ao limite da tela, reinicio a posição do personagem\n",
    "        s = s0\n",
    "\n",
    "    # Desenhar fundo\n",
    "    screen.fill(BLACK)\n",
    "\n",
    "    # Desenhar personagem\n",
    "    rect = pygame.Rect(s, (10, 10))  # First tuple is position, second is size.\n",
    "    screen.blit(personagem, rect)\n",
    "\n",
    "    # Update!\n",
    "    pygame.display.update()\n",
    "\n",
    "# Terminar tela\n",
    "pygame.quit()"
   ]
  },
  {
   "cell_type": "markdown",
   "metadata": {},
   "source": [
    "## Exercício 4: relacionar a notação matemática à notação vetorial em código\n",
    "\n",
    "Arrays de numpy são representações computacionais de vetores. Quando nos referimos a vetores em notação matemática, é comum usarmos letras minúsculas em negrito (diferenciando o vetor $\\boldsymbol{x}$ do número real $x$), ou letras com uma seta como em: $\\overrightarrow{x}$.\n",
    "\n",
    "Para nos referirmos a elementos específicos de um vetor, podemos usar a notação de subscrito ($x_i$ para representar o i-ésimo elemento do vetor) ou então a notação colchetes ($x[i]$). Importante: se optarmos por usar a notação subscrito, é importante deixar claro se estamos nos referindo a um elemento de vetor ou a iterações de uma variável. Em especial, se quisermos nos referir simultaneamente a iterações e a elementos do vetor então devemos tomar um cuidado especial, e possivelmente usar uma notação mista como $x_n[i]$ para significar o i-ésimo elemento do vetor durante a n-ésima iteração.\n",
    "\n",
    "Use a notação matemática para descrever a modificação do vetor $\\boldsymbol {s}$ a cada iteração do código do exercício 3.\n"
   ]
  },
  {
   "cell_type": "markdown",
   "metadata": {},
   "source": [
    "## Exercício 5: gerar código computacional à partir de um modelo matemático\n",
    "\n",
    "Transforme o código do exercício 3 para que o movimento passe a seguir o seguinte modelo matemático:\n",
    "\n",
    "$$\n",
    "\\begin{align*}\n",
    "\\boldsymbol {v_0} &=& [1, -1]\\\\\n",
    "\\boldsymbol {v_n} &=& 0.99 \\boldsymbol {v_{n-1}}\\\\\n",
    "\\boldsymbol {s_0} &=& [100, 300]\\\\\n",
    "\\boldsymbol {s_n} &=& \\boldsymbol{s_{n-1}} + \\boldsymbol {v_n}\n",
    "\\end{align*}\n",
    "$$"
   ]
  },
  {
   "attachments": {},
   "cell_type": "markdown",
   "metadata": {},
   "source": [
    "## Exercício 6: escrever em notação matemática o processo de soma de vetores\n",
    "\n",
    "Até o momento, usamos várias vezes a operação de *soma* em vetores. Vamos analisá-la mais cuidadosamente.\n",
    "\n",
    "O código abaixo mostra um exemplo mínimo de soma de vetores que implementa a equação: $\\boldsymbol{c} = \\boldsymbol{a} + \\boldsymbol{b}$.\n",
    "\n",
    "Manipule os valores dos vetores $\\boldsymbol{a}$ e $\\boldsymbol{b}$ para inferir como cada elemento do vetor $\\boldsymbol{c}$ é calculado. Complete a equação:\n",
    "$$\n",
    "c_i = ???\n",
    "$$\n",
    "$$\n",
    "c_i = ai + bi\n",
    "$$"
   ]
  },
  {
   "cell_type": "code",
   "execution_count": null,
   "metadata": {},
   "outputs": [
    {
     "name": "stdout",
     "output_type": "stream",
     "text": [
      "[4 4]\n"
     ]
    }
   ],
   "source": [
    "a = np.array([2, 1])\n",
    "b = np.array([2, 3])\n",
    "c = a + b\n",
    "print(c)"
   ]
  },
  {
   "attachments": {},
   "cell_type": "markdown",
   "metadata": {},
   "source": [
    "## Exercício 7: identificar o que ocorre quando somamos vetores de tamanhos diferentes\n",
    "\n",
    "1. O que aconteceria no código do exercício 6 se os vetores $\\boldsymbol{a}$ e $\\boldsymbol{b}$ tiverem um número diferente de elementos (por exemplo, se `a = np.array([1, 2, 3, 4])` e `b = np.array([1, 2])`?\n",
    "2. De acordo com a equação que você escreveu para $c_i$, onde está a incompatibilidade?"
   ]
  },
  {
   "cell_type": "code",
   "execution_count": 3,
   "metadata": {},
   "outputs": [
    {
     "name": "stdout",
     "output_type": "stream",
     "text": [
      "[ 2  4 10 12]\n"
     ]
    }
   ],
   "source": [
    "a = np.array([1, 2, 3, 4]) \n",
    "b = np.array([1, 2, 7, 8])\n",
    "print(a+b)"
   ]
  },
  {
   "cell_type": "markdown",
   "metadata": {},
   "source": [
    "## Exercício 8: escrever em notação matemática o processo de multiplicação de vetores por números reais\n",
    "\n",
    "Outra operação que fizemos com vetores foi multiplicá-los por números reais. O código abaixo implementa a multiplicação: $\\boldsymbol {c} = a \\boldsymbol{b}$.\n",
    "\n",
    "Manipule os valores iniciais dos vetores para inferir como cada elemento do vetor $\\boldsymbol{c}$ é calculado. Complete a equação:\n",
    "$$\n",
    "c_i = ???\n",
    "$$"
   ]
  },
  {
   "cell_type": "code",
   "execution_count": 5,
   "metadata": {},
   "outputs": [
    {
     "name": "stdout",
     "output_type": "stream",
     "text": [
      "[0.5 1.  1.5 2.  2.5 3. ]\n"
     ]
    }
   ],
   "source": [
    "a = 0.5\n",
    "b = np.array([1, 2, 3, 4, 5, 6])\n",
    "c = a * b\n",
    "print(c)"
   ]
  },
  {
   "cell_type": "markdown",
   "metadata": {},
   "source": [
    "## Exercício 9: usar a subtração de vetores para descobrir a direção que leva de um ponto a outro\n",
    "\n",
    "Suponha que estamos numa posição $\\boldsymbol {s}$ em nossa tela. Gostaríamos de dar um passo para chegar à posição  $\\boldsymbol {y}$ somando uma variação $\\boldsymbol {v}$ ao vetor $\\boldsymbol {s}$, isto é:\n",
    "\n",
    "$$\n",
    "\\boldsymbol {s} + \\boldsymbol {v} = \\boldsymbol {y} \n",
    "$$\n",
    "\n",
    "Nesse caso, podemos manipular algebricamente a equação e subtrair $\\boldsymbol {s}$ dos dois lados para encontrar:\n",
    "\n",
    "$$\n",
    "\\boldsymbol {v} = \\boldsymbol {y} - \\boldsymbol {s}\n",
    "$$\n",
    "\n",
    "Leia e execute o código abaixo. Passe o mouse sobre a tela que se abre e veja o que acontece. Após, responda:\n",
    "\n",
    "1. Que linha de código define a direção em que o ponto vai se mover a cada iteração?\n",
    "2. Na linha `s = s + 0.1 * v`, o que acontece se o número $0.1$ for trocado por um número menor, como $0.01$? E se for trocado por um número maior, como $0.7$? E se for trocado por um número negativo, como $-0.001$? E por um número maior que 1, como $1.1$? Por que esses comportamentos acontecem? Após esses testes, retorne o número para $0.1$."
   ]
  },
  {
   "cell_type": "code",
   "execution_count": null,
   "metadata": {},
   "outputs": [],
   "source": [
    "pygame.init()\n",
    "\n",
    "# Tamanho da tela e definição do FPS\n",
    "screen = pygame.display.set_mode((400, 400))\n",
    "clock = pygame.time.Clock()\n",
    "FPS = 60  # Frames per Second\n",
    "\n",
    "BLACK = (0, 0, 0)\n",
    "COR_PERSONAGEM = (30, 200, 20)\n",
    "\n",
    "# Inicializar posicoes\n",
    "s0 = np.array([200,200])\n",
    "v = np.array([-1, -1])\n",
    "s = s0\n",
    "\n",
    "# Personagem\n",
    "personagem = pygame.Surface((5, 5))  # Tamanho do personagem\n",
    "personagem.fill(COR_PERSONAGEM)  # Cor do personagem\n",
    "\n",
    "rodando = True\n",
    "while rodando:\n",
    "    # Capturar eventos\n",
    "    for event in pygame.event.get():\n",
    "        if event.type == pygame.QUIT:\n",
    "            rodando = False\n",
    "\n",
    "    # Controlar frame rate\n",
    "    clock.tick(FPS)\n",
    "\n",
    "    # Processar posicoes\n",
    "    y = pygame.mouse.get_pos()\n",
    "    v = (y - s) * 0.2 + v * 0.8\n",
    "    s = s + 0.2 * v\n",
    "\n",
    "    # Desenhar fundo\n",
    "    screen.fill(BLACK)\n",
    "\n",
    "    # Desenhar personagem\n",
    "    rect = pygame.Rect(s, (30, 30))  # First tuple is position, second is size.\n",
    "    screen.blit(personagem, rect)\n",
    "\n",
    "    # Update!\n",
    "    pygame.display.update()\n",
    "\n",
    "# Terminar tela\n",
    "pygame.quit()"
   ]
  },
  {
   "cell_type": "markdown",
   "metadata": {},
   "source": [
    "# Relacionar vetores a triângulos"
   ]
  },
  {
   "cell_type": "markdown",
   "metadata": {},
   "source": [
    "## Exercício 10: representar vetores em um plano usando `matplotlib`\n",
    "\n",
    "Em geral, vetores são representados em um plano cartesiano usando uma seta que parte da origem do plano. Podemos usar o módulo `matplotlib` para desenhar vetores, como no código abaixo. À partir desse código e da figura gerada:\n",
    "\n",
    "1. Identifique na figura os vetores $\\boldsymbol{x}=[1,-1]$, $\\boldsymbol{y}=[1,2]$ e $\\boldsymbol{z}=[-1.5,1.5]$\n",
    "2. Insira na figura um vetor $\\boldsymbol{w}=[-1,-0.5]$"
   ]
  },
  {
   "cell_type": "code",
   "execution_count": null,
   "metadata": {},
   "outputs": [
    {
     "data": {
      "image/png": "[encoded data removed]",
      "text/plain": [
       "<Figure size 500x500 with 1 Axes>"
      ]
     },
     "metadata": {},
     "output_type": "display_data"
    }
   ],
   "source": [
    "plt.figure(figsize=(5,5))\n",
    "plt.arrow(0,0,1,2,length_includes_head=True,head_width=0.1,)\n",
    "plt.arrow(0,0,-1.5,1.5,length_includes_head=True,head_width=0.1)\n",
    "plt.arrow(0,0,1,-1,length_includes_head=True,head_width=0.1)\n",
    "plt.arrow(0,0,-1,-0.5,length_includes_head=True,head_width=0.1)\n",
    "plt.xlim([-2,2])\n",
    "plt.ylim([-2,2])\n",
    "plt.grid()\n",
    "plt.show()"
   ]
  },
  {
   "cell_type": "markdown",
   "metadata": {},
   "source": [
    "## Exercício 11: relacionar um vetor à hipotenusa de um triângulo retângulo\n",
    "\n",
    "Veja a figura abaixo. A seta correspondente ao vetor cobre a [hipotenusa](https://pt.wikipedia.org/wiki/Hipotenusa) de um [triângulo retângulo](https://pt.wikipedia.org/wiki/Tri%C3%A2ngulo_ret%C3%A2ngulo).\n",
    "\n",
    "1. Qual é o comprimento do [cateto](https://pt.wikipedia.org/wiki/Cateto) azul?\n",
    "2. Qual é o comprimento do [cateto](https://pt.wikipedia.org/wiki/Cateto) vermelho?\n",
    "3. Qual é o comprimento do vetor representado (dica: use o [Teorema de Pitágoras](https://www.mathsisfun.com/geometry/pythagorean-theorem-proof.html))?"
   ]
  },
  {
   "cell_type": "code",
   "execution_count": null,
   "metadata": {},
   "outputs": [
    {
     "data": {
      "image/png": "[encoded data removed]",
      "text/plain": [
       "<Figure size 360x360 with 1 Axes>"
      ]
     },
     "metadata": {
      "needs_background": "light"
     },
     "output_type": "display_data"
    }
   ],
   "source": [
    "plt.figure(figsize=(5,5))\n",
    "plt.arrow(0,0,1,2,length_includes_head=True,head_width=0.1)\n",
    "plt.plot([0,1], [0,0],'r')\n",
    "plt.plot([1,1], [0,2],'b')\n",
    "plt.xlim([-1,2])\n",
    "plt.ylim([-1,2])\n",
    "plt.grid()\n",
    "plt.show()"
   ]
  },
  {
   "cell_type": "code",
   "execution_count": null,
   "metadata": {},
   "outputs": [
    {
     "name": "stdout",
     "output_type": "stream",
     "text": [
      "2.23606797749979\n"
     ]
    }
   ],
   "source": [
    "import math\n",
    "print(math.sqrt(5))"
   ]
  },
  {
   "cell_type": "markdown",
   "metadata": {},
   "source": [
    "## Exercício 12: calcular o módulo de vetores em duas dimensões\n",
    "\n",
    "O comprimento da seta que representa um vetor no plano cartesiano é chamado de *módulo* do vetor. Dependendo da referência bibliográfica, o módulo é também chamado de *norma*, ou de *comprimento*. O módulo de um vetor $\\boldsymbol {x}$ é representado usando barras verticais. Duas notações comuns são: $|\\boldsymbol{x}|$ e $||\\boldsymbol{x}||$. Como vimos, de acordo com o [Teorema de Pitágoras](https://www.mathsisfun.com/geometry/pythagorean-theorem-proof.html), o módulo de um vetor de duas dimensões pode ser calculado por:\n",
    "\n",
    "$$\n",
    "|\\boldsymbol{x}| = \\sqrt{x_1^2 + x_2^2}\n",
    "$$\n",
    "\n",
    "Calcule (manualmente ou programando! se achar necessário, faça um desenho) os módulos dos vetores:\n",
    "\n",
    "1. $[3, 4]$\n",
    "2. $[6, 8]$\n",
    "3. $[9, 12]$\n",
    "4. $[-3, 4]$\n",
    "5. $[-3, -4]$\n",
    "6. $[3, -4]$"
   ]
  },
  {
   "cell_type": "code",
   "execution_count": 6,
   "metadata": {},
   "outputs": [
    {
     "name": "stdout",
     "output_type": "stream",
     "text": [
      "5.0\n",
      "10.0\n",
      "15.0\n",
      "5.0\n",
      "5.0\n",
      "5.0\n"
     ]
    }
   ],
   "source": [
    "module = lambda vect: np.linalg.norm(vect)\n",
    "\n",
    "vects = [[3, 4],[6, 8],[9, 12],[-3, 4],[-3, -4],[3, -4]]\n",
    "for i in vects:\n",
    "    print(module(i))"
   ]
  },
  {
   "cell_type": "markdown",
   "metadata": {},
   "source": [
    "## Exercício 13: calcular módulo de vetores em dimensão alta\n",
    "\n",
    "Quando um vetor tem mais de duas dimensões (por exemplo, $n$ dimensões), o Teorema de Pitágoras pode ser generalizado para encontrar o módulo:\n",
    "\n",
    "$$\n",
    "|\\boldsymbol{x}| = \\sqrt{x_1^2 + x_2^2 + x_3^2 + ... + x_n^2}\n",
    "$$\n",
    "\n",
    "Faça um programa em Python para encontrar o módulo do vetor $\\boldsymbol {x}$ definido abaixo (resposta esperada: `7.396`). Seu programa deve funcionar também para calcular o módulo do vetor $\\boldsymbol {y}$, que tem tamanho definido aleatoriamente a cada nova execução."
   ]
  },
  {
   "cell_type": "code",
   "execution_count": null,
   "metadata": {},
   "outputs": [
    {
     "name": "stdout",
     "output_type": "stream",
     "text": [
      "7.396542600431637\n",
      "4.278240421812943\n",
      "7.396542600431637\n",
      "4.278240421812943\n"
     ]
    }
   ],
   "source": [
    "x = np.array([4, -2, 3, 2, 0.5, 0, 1, 2, 1, 3, 2, -1, 0.123, 0.432, 1.1212])\n",
    "y = np.random.random(np.random.randint(30,70))\n",
    "print(np.linalg.norm(x))\n",
    "print(np.linalg.norm(y))\n",
    "\n",
    "def mmodule(vect):\n",
    "    result = 0\n",
    "    for i in vect:\n",
    "       result += i**2 \n",
    "    return np.sqrt(result)\n",
    "\n",
    "print(mmodule(x))\n",
    "print(mmodule(y))\n"
   ]
  },
  {
   "cell_type": "markdown",
   "metadata": {},
   "source": [
    "# Usar a representação polar de vetores"
   ]
  },
  {
   "attachments": {},
   "cell_type": "markdown",
   "metadata": {},
   "source": [
    "## Exercício 14: calcular o ângulo entre um vetor e o eixo horizontal\n",
    "\n",
    "Neste exercício, calcularemos o (menor) ângulo entre o eixo horizontal (eixo x) e a seta que representa o vetor. Esse ângulo representa a direção do vetor e geralmente é referido como $\\phi$ (a letra grega *fi*). O ângulo é comumente chamado de *argumento*.\n",
    "\n",
    "1. Qual é o comprimento do vetor $\\boldsymbol{v}$ representado abaixo? raiz(2)\n",
    "2. Qual dos ângulos do triângulo formado na figura é $\\phi$? \n",
    "3. Qual é o [cosseno](https://pt.wikipedia.org/wiki/Cosseno) de $\\phi$? 1/raiz(2)\n",
    "4. Usando seus conhecimentos de trigonometria, calcule $\\phi$ em [radianos](https://pt.wikipedia.org/wiki/Radiano) e em graus. pi/4\n",
    "5. Usando a função `np.arccos`, calcule $\\phi$ em [radianos](https://pt.wikipedia.org/wiki/Radiano) e em graus.\n",
    "6. Repita o exercício para $\\boldsymbol{v} = [1,2]$"
   ]
  },
  {
   "cell_type": "code",
   "execution_count": null,
   "metadata": {},
   "outputs": [
    {
     "data": {
      "image/png": "[encoded data removed]",
      "text/plain": [
       "<Figure size 500x500 with 1 Axes>"
      ]
     },
     "metadata": {},
     "output_type": "display_data"
    },
    {
     "name": "stdout",
     "output_type": "stream",
     "text": [
      "rad: 0.7853981633974484\n",
      "deg: 45.00000000000001\n"
     ]
    }
   ],
   "source": [
    "v = np.array([1, 1])\n",
    "plt.figure(figsize=(5,5))\n",
    "plt.arrow(0,0,v[0],v[1],length_includes_head=True,head_width=0.1)\n",
    "plt.plot([0,v[0]], [0,0],'r')\n",
    "plt.plot([v[0],v[0]], [0,v[1]],'b')\n",
    "plt.xlim([-1,3])\n",
    "plt.ylim([-1,3])\n",
    "plt.grid()\n",
    "plt.show()\n",
    "\n",
    "print(f'rad: {np.arccos(1/np.sqrt(2))}')\n",
    "print(f'deg: {np.degrees(np.arccos(1/np.sqrt(2)))}')\n",
    "\n"
   ]
  },
  {
   "cell_type": "markdown",
   "metadata": {},
   "source": [
    "## Exercício 15: calcular o efeito de multiplicações por escalares no módulo e no argumento de vetores\n",
    "\n",
    "Manipule o vetor $\\boldsymbol{v}$ no código abaixo para responder às seguintes questões:\n",
    "1. Inicialmente, calcule o módulo e o argumento de $\\boldsymbol{v}$.\n",
    "2. Calcule o módulo e o argumento de $2 \\boldsymbol{v}$\n",
    "3. Escolha um número positivo qualquer $a$ e calcule o módulo e o argumento de $a \\boldsymbol{v}$\n",
    "4. Escolha um número negativo qualquer $b$ e calcule o módulo e o argumento de $b \\boldsymbol{v}$\n",
    "5. Escreva: o que acontece com o módulo e o argumento de um vetor quando o vetor é multiplicado por um número qualquer?"
   ]
  },
  {
   "attachments": {},
   "cell_type": "markdown",
   "metadata": {},
   "source": [
    "Resposta: <br>\n",
    "5. Quando multiplica-se por numero positivo: altera módulo. E por numero neg: altera módulo e o angulo vira o complementar."
   ]
  },
  {
   "cell_type": "code",
   "execution_count": 10,
   "metadata": {},
   "outputs": [
    {
     "data": {
      "image/png": "[encoded data removed]",
      "text/plain": [
       "<Figure size 500x500 with 1 Axes>"
      ]
     },
     "metadata": {},
     "output_type": "display_data"
    }
   ],
   "source": [
    "v = np.array([1, 1])\n",
    "v*=-1\n",
    "plt.figure(figsize=(5,5))\n",
    "plt.arrow(0,0,v[0],v[1],length_includes_head=True,head_width=0.1)\n",
    "plt.plot([0,v[0]], [0,0],'r')\n",
    "plt.plot([v[0],v[0]], [0,v[1]],'b')\n",
    "plt.xlim([-1,3])\n",
    "plt.ylim([-1,3])\n",
    "plt.grid()\n",
    "plt.show()"
   ]
  },
  {
   "cell_type": "code",
   "execution_count": 11,
   "metadata": {},
   "outputs": [
    {
     "name": "stdout",
     "output_type": "stream",
     "text": [
      "modulo: 1.4142135623730951\n",
      "angulo: -40.51423422706977\n"
     ]
    }
   ],
   "source": [
    "print(f'modulo: {np.linalg.norm(v)}')\n",
    "print(f'angulo: {np.degrees(v[0]/np.linalg.norm(v))}')"
   ]
  },
  {
   "attachments": {},
   "cell_type": "markdown",
   "metadata": {},
   "source": [
    "## Exercício 16: deduzir matematicamente o procedimento para normalizar um vetor\n",
    "\n",
    "Quando dois vetores têm o mesmo argumento, dizemos que eles têm a mesma direção.\n",
    "\n",
    "Se temos um vetor $\\boldsymbol{v}$ com módulo $|\\boldsymbol{v}|$, como podemos encontrar um vetor $\\boldsymbol{w}$ com a mesma direção de $\\boldsymbol{v}$ e com módulo igual a 1?\n",
    "\n",
    "W = v/|V| -> |W| = 1"
   ]
  },
  {
   "cell_type": "markdown",
   "metadata": {},
   "source": [
    "## Exercício 17: usar operações vetoriais de `numpy` para calcular o módulo de vetores\n",
    "\n",
    "As três funções abaixo retornam o módulo de um vetor recebido como entrada.\n",
    "1. Verifique se essas funções retornam resultados corretos\n",
    "2. Qual das implementações você acha mais compacta? Por que?"
   ]
  },
  {
   "cell_type": "code",
   "execution_count": 13,
   "metadata": {},
   "outputs": [],
   "source": [
    "def modulo_A(x):\n",
    "    mod = 0\n",
    "    for i in range(len(x)):\n",
    "        mod += x[i]**2\n",
    "    mod = mod**0.5\n",
    "    return mod\n",
    "\n",
    "def modulo_B(x):\n",
    "    mod = np.sqrt(np.sum(x**2))\n",
    "    return mod\n",
    "\n",
    "def modulo_C(x):\n",
    "    mod = np.linalg.norm(x)\n",
    "    return mod"
   ]
  },
  {
   "cell_type": "code",
   "execution_count": 17,
   "metadata": {},
   "outputs": [
    {
     "name": "stdout",
     "output_type": "stream",
     "text": [
      "22.360679774997898 22.360679774997898\n"
     ]
    }
   ],
   "source": [
    "vect = [10,20]\n",
    "print(modulo_A(vect), modulo_C(vect))"
   ]
  },
  {
   "cell_type": "markdown",
   "metadata": {},
   "source": [
    "## Exercício 18: aplicar a normalização de vetor em um contexto de jogo digital\n",
    "\n",
    "O pequeno jogo abaixo foi trabalhado na aula anterior. Nele, um pequeno ponto verde segue o ponteiro do mouse. No comportamento que está implementado, o ponto verde se move mais rápido quando está distante do ponteiro, e mais lento quando se aproxima. \n",
    "\n",
    "1. Por que o ponto se move mais rapidamente quando está mais longe do ponteiro do mouse?\n",
    "2. Modifique o código de forma que o módulo da velocidade do ponto seja sempre constante e igual a 5."
   ]
  },
  {
   "cell_type": "code",
   "execution_count": 21,
   "metadata": {},
   "outputs": [],
   "source": [
    "pygame.init()\n",
    "\n",
    "# Tamanho da tela e definição do FPS\n",
    "screen = pygame.display.set_mode((400, 400))\n",
    "clock = pygame.time.Clock()\n",
    "FPS = 60  # Frames per Second\n",
    "\n",
    "BLACK = (0, 0, 0)\n",
    "COR_PERSONAGEM = (30, 200, 20)\n",
    "\n",
    "# Inicializar posicoes\n",
    "s0 = np.array([200,200])\n",
    "v = np.array([-1, -1])\n",
    "s = s0\n",
    "\n",
    "# Personagem\n",
    "personagem = pygame.Surface((5, 5))  # Tamanho do personagem\n",
    "personagem.fill(COR_PERSONAGEM)  # Cor do personagem\n",
    "\n",
    "rodando = True\n",
    "while rodando:\n",
    "    # Capturar eventos\n",
    "    for event in pygame.event.get():\n",
    "        if event.type == pygame.QUIT:\n",
    "            rodando = False\n",
    "\n",
    "    # Controlar frame rate\n",
    "    clock.tick(FPS)\n",
    "\n",
    "    # Processar posicoes\n",
    "    y = pygame.mouse.get_pos()\n",
    "    v = (y - s)\n",
    "\n",
    "    modulo_v = np.linalg.norm(v)\n",
    "    v = v / modulo_v\n",
    "    v *= 5\n",
    "    s = s + v\n",
    "\n",
    "    # Desenhar fundo\n",
    "    screen.fill(BLACK)\n",
    "\n",
    "    # Desenhar personagem\n",
    "    rect = pygame.Rect(s, (10, 10))  # First tuple is position, second is size.\n",
    "    screen.blit(personagem, rect)\n",
    "\n",
    "    # Update!\n",
    "    pygame.display.update()\n",
    "\n",
    "# Terminar tela\n",
    "pygame.quit()"
   ]
  },
  {
   "cell_type": "code",
   "execution_count": null,
   "metadata": {},
   "outputs": [],
   "source": []
  },
  {
   "cell_type": "markdown",
   "metadata": {},
   "source": [
    "# Implementar sistemas dinâmicos"
   ]
  },
  {
   "attachments": {},
   "cell_type": "markdown",
   "metadata": {},
   "source": [
    "## Exercício 19: analisar os efeitos da aceleração no movimento uniformemente variado\n",
    "\n",
    "O código abaixo simula uma situação na qual jogamos uma pequena pedra do alto de um prédio. Na simulação, temos dois fenômenos que acontecem a cada iteração. Primeiro, a velocidade é alterada através da expressão $\\boldsymbol {v_n} = \\boldsymbol {v_{n-1}} + a$. Depois disso, a posição é alterada pela expressão  $\\boldsymbol {s_n} = \\boldsymbol {s_{n-1}} + \\boldsymbol{v}_{n}$.\n",
    "\n",
    "1. No código abaixo, qual linha implementa a expressão $\\boldsymbol {v_n} = \\boldsymbol {v_{n-1}} + a$? \n",
    "2. No código abaixo, qual linha implementa a expressão $\\boldsymbol {s_n} = \\boldsymbol {s_{n-1}} + \\boldsymbol{v}_{n}$\n",
    "3. Por que uma das componentes da variável `a` é zero?\n",
    "4. Modifique o código para que a pedra seja arremessada com uma velocidade inicial com módulo mais alto\n",
    "5. Modifique o código para que a gravidade seja mais suave que a incialmente projetada\n",
    "   "
   ]
  },
  {
   "attachments": {},
   "cell_type": "markdown",
   "metadata": {},
   "source": [
    "Resposta:\n",
    "3. Aceleração em x está zerado, portanto MRU em x."
   ]
  },
  {
   "cell_type": "code",
   "execution_count": 7,
   "metadata": {},
   "outputs": [],
   "source": [
    "pygame.init()\n",
    "\n",
    "# Tamanho da tela e definição do FPS\n",
    "screen = pygame.display.set_mode((400, 400))\n",
    "clock = pygame.time.Clock()\n",
    "FPS = 60  # Frames per Second\n",
    "\n",
    "BLACK = (0, 0, 0)\n",
    "COR_PERSONAGEM = (30, 200, 20)\n",
    "\n",
    "# Inicializar posicoes\n",
    "s0 = np.array([50, 200])\n",
    "v0 = np.array([10, -10])*1.2\n",
    "a = np.array([0, 0.15])\n",
    "v = v0\n",
    "s = s0\n",
    "\n",
    "# Personagem\n",
    "personagem = pygame.Surface((5, 5))  # Tamanho do personagem\n",
    "personagem.fill(COR_PERSONAGEM)  # Cor do personagem\n",
    "\n",
    "rodando = True\n",
    "while rodando:\n",
    "    # Capturar eventos\n",
    "    for event in pygame.event.get():\n",
    "        if event.type == pygame.QUIT:\n",
    "            rodando = False\n",
    "\n",
    "    if s[0]<10 or s[0]>390 or s[1]<10 or s[1]>390: # Se eu chegar ao limite da tela, reinicio a posição do personagem\n",
    "        s, v = s0, v0\n",
    "\n",
    "    # Controlar frame rate\n",
    "    clock.tick(FPS)\n",
    "\n",
    "    # Processar posicoes\n",
    "    v = v + a\n",
    "    s = s + 0.1 * v\n",
    "\n",
    "    # Desenhar fundo\n",
    "    screen.fill(BLACK)\n",
    "\n",
    "    # Desenhar personagem\n",
    "    rect = pygame.Rect(s, (10, 10))  # First tuple is position, second is size.\n",
    "    screen.blit(personagem, rect)\n",
    "\n",
    "    # Update!\n",
    "    pygame.display.update()\n",
    "\n",
    "# Terminar tela\n",
    "pygame.quit()"
   ]
  },
  {
   "cell_type": "markdown",
   "metadata": {},
   "source": [
    "## Exercício 20: adicionar aleatoriedade ao sistema de partículas\n",
    "\n",
    "Modifique o código do exercício 19 de forma que a velocidade inicial da pedra seja levemente diferente a cada vez que ela é \"jogada\". Uma das maneiras de conseguir isso é usar um vetor de números aleatórios (`rnd = np.random.randn(2)`) que é multiplicado por algum fator de escala (experimente vários, de acordo com como gostar) e então somado à velocidade da partícula no momento em que ela é re-criada."
   ]
  },
  {
   "cell_type": "code",
   "execution_count": 19,
   "metadata": {},
   "outputs": [],
   "source": [
    "pygame.init()\n",
    "\n",
    "# Tamanho da tela e definição do FPS\n",
    "screen = pygame.display.set_mode((400, 400))\n",
    "clock = pygame.time.Clock()\n",
    "FPS = 60  # Frames per Second\n",
    "\n",
    "BLACK = (0, 0, 0)\n",
    "COR_PERSONAGEM = (30, 200, 20)\n",
    "\n",
    "# Inicializar posicoes\n",
    "s0 = np.array([50, 200])\n",
    "v0 = np.array([10, -10])\n",
    "a = np.array([0, 0.15])\n",
    "v = v0\n",
    "s = s0\n",
    "\n",
    "# Personagem\n",
    "personagem = pygame.Surface((5, 5))  # Tamanho do personagem\n",
    "personagem.fill(COR_PERSONAGEM)  # Cor do personagem\n",
    "\n",
    "rodando = True\n",
    "while rodando:\n",
    "    # Capturar eventos\n",
    "    for event in pygame.event.get():\n",
    "        if event.type == pygame.QUIT:\n",
    "            rodando = False\n",
    "\n",
    "    if s[0]<10 or s[0]>390 or s[1]<10 or s[1]>390: # Se eu chegar ao limite da tela, reinicio a posição do personagem\n",
    "        v0 = np.random.randn(2) * 10\n",
    "        s, v = s0, v0\n",
    "\n",
    "\n",
    "    # Controlar frame rate\n",
    "    clock.tick(FPS)\n",
    "\n",
    "    # Processar posicoes\n",
    "    v = v + a\n",
    "    s = s + 0.1 * v\n",
    "\n",
    "    # Desenhar fundo\n",
    "    screen.fill(BLACK)\n",
    "\n",
    "    # Desenhar personagem\n",
    "    rect = pygame.Rect(s, (10, 10))  # First tuple is position, second is size.\n",
    "    screen.blit(personagem, rect)\n",
    "\n",
    "    # Update!\n",
    "    pygame.display.update()\n",
    "\n",
    "# Terminar tela\n",
    "pygame.quit()"
   ]
  },
  {
   "cell_type": "markdown",
   "metadata": {},
   "source": [
    "## Exercício 21: adicionar interatividade ao sistema de partículas\n",
    "\n",
    "Modifique novamente o código do exercício 19 de forma que, em adição à modificação feita no exercício 20, as partículas sejam disparadas sempre na direção do ponteiro do mouse do jogador."
   ]
  },
  {
   "cell_type": "code",
   "execution_count": 20,
   "metadata": {},
   "outputs": [],
   "source": [
    "pygame.init()\n",
    "\n",
    "# Tamanho da tela e definição do FPS\n",
    "screen = pygame.display.set_mode((400, 400))\n",
    "clock = pygame.time.Clock()\n",
    "FPS = 60  # Frames per Second\n",
    "\n",
    "BLACK = (0, 0, 0)\n",
    "COR_PERSONAGEM = (30, 200, 20)\n",
    "\n",
    "# Inicializar posicoes\n",
    "s0 = np.array([200, 200])\n",
    "v0 = np.array([15, -15])\n",
    "a = np.array([0, 0.15])\n",
    "v = v0\n",
    "s = s0\n",
    "\n",
    "# Personagem\n",
    "personagem = pygame.Surface((5, 5))  # Tamanho do personagem\n",
    "personagem.fill(COR_PERSONAGEM)  # Cor do personagem\n",
    "\n",
    "rodando = True\n",
    "while rodando:\n",
    "    # Capturar eventos\n",
    "    for event in pygame.event.get():\n",
    "        if event.type == pygame.QUIT:\n",
    "            rodando = False\n",
    "\n",
    "    if s[0]<10 or s[0]>390 or s[1]<10 or s[1]>390: # Se eu chegar ao limite da tela, reinicio a posição do personagem\n",
    "        v0 = (pygame.mouse.get_pos() - s0 - np.abs(np.random.randn(2)))\n",
    "        v0 = v0 / np.linalg.norm(v0) * 100\n",
    "        s, v = s0, v0\n",
    "\n",
    "    # Controlar frame rate\n",
    "    clock.tick(FPS)\n",
    "\n",
    "    # Processar posicoes\n",
    "    v = v + a\n",
    "    s = s + 0.1 * v\n",
    "\n",
    "    # Desenhar fundo\n",
    "    screen.fill(BLACK)\n",
    "\n",
    "    # Desenhar personagem\n",
    "    rect = pygame.Rect(s, (10, 10))  # First tuple is position, second is size.\n",
    "    screen.blit(personagem, rect)\n",
    "\n",
    "    # Update!\n",
    "    pygame.display.update()\n",
    "\n",
    "# Terminar tela\n",
    "pygame.quit()"
   ]
  },
  {
   "cell_type": "markdown",
   "metadata": {},
   "source": [
    "## Exercício 22: operar com várias partículas simultaneamente\n",
    "\n",
    "Modifique novamente o código do exercício 19. Em adição às modificações já feitas, faça com que a simulação agora tenha 50 pedras operando simultaneamente, que são inicializadas do mesmo ponto (fazendo uma espécie de \"metralhadora\"). Como seria uma boa maneira de representar as posições e velocidades de 50 pedras diferentes?\n",
    "\n",
    "Após, altere o número máximo de partículas de sua simulação. Até quantas partículas você consegue simular sem ter travamentos na sua máquina?"
   ]
  },
  {
   "cell_type": "code",
   "execution_count": 21,
   "metadata": {},
   "outputs": [],
   "source": [
    "pygame.init()\n",
    "\n",
    "# Tamanho da tela e definição do FPS\n",
    "screen = pygame.display.set_mode((400, 400))\n",
    "clock = pygame.time.Clock()\n",
    "FPS = 60  # Frames per Second\n",
    "\n",
    "BLACK = (0, 0, 0)\n",
    "COR_PERSONAGEM = (30, 200, 20)\n",
    "\n",
    "# Inicializar posicoes\n",
    "s0 = np.array([200, 200])\n",
    "v0 = np.array([15, -15])\n",
    "a = np.array([0, 0.15])\n",
    "v = [v0 for i in range(50)]\n",
    "s = [s0 for i in range(50)]\n",
    "\n",
    "# Personagem\n",
    "personagem = pygame.Surface((5, 5))  # Tamanho do personagem\n",
    "personagem.fill(COR_PERSONAGEM)  # Cor do personagem\n",
    "\n",
    "rodando = True\n",
    "while rodando:\n",
    "    # Capturar eventos\n",
    "    for event in pygame.event.get():\n",
    "        if event.type == pygame.QUIT:\n",
    "            rodando = False\n",
    "    \n",
    "    for i in range(50):\n",
    "        if s[i][0]<10 or s[i][0]>390 or s[i][1]<10 or s[i][1]>390: # Se eu chegar ao limite da tela, reinicio a posição do personagem\n",
    "            v0 = (pygame.mouse.get_pos() - s0)\n",
    "            v0 = v0 / np.linalg.norm(v0) * 100\n",
    "            v0 = v0 + 3*np.random.randn(2)\n",
    "            s[i], v[i] = s0, v0\n",
    "\n",
    "    # Controlar frame rate\n",
    "    clock.tick(FPS)\n",
    "\n",
    "    # Processar posicoes\n",
    "    for i in range(50):\n",
    "        v[i] = v[i] + a\n",
    "        s[i] = s[i] + 0.1 * v[i]\n",
    "\n",
    "    # Desenhar fundo\n",
    "    screen.fill(BLACK)\n",
    "\n",
    "    # Desenhar personagem\n",
    "    for i in range(50):\n",
    "        rect = pygame.Rect(s[i], (10, 10))  # First tuple is position, second is size.\n",
    "        screen.blit(personagem, rect)\n",
    "\n",
    "    # Update!\n",
    "    pygame.display.update()\n",
    "\n",
    "# Terminar tela\n",
    "pygame.quit()"
   ]
  },
  {
   "cell_type": "markdown",
   "metadata": {},
   "source": [
    "## Exercício 23: adicionar um atrator gravitacional\n",
    "\n",
    "Neste momento, estamos pensando na simulação do exercício 19 como jogar pedras de um penhasco. Agora, vamos pensar nela como jogar pequenos meteoritos no espaço sideral. Para isso:\n",
    "\n",
    "1. Escolha algum ponto da tela em que haverá um corpo celeste maior.\n",
    "2. Desenhe um círculo ao redor desse ponto, de forma a indicar onde ele se encontra.\n",
    "3. Remova a gravidade \"global\" que está sendo aplicada a todas as partículas simultaneamente.\n",
    "4. A cada iteração, para cada partícula, recalcule a aceleração devida à gravidade. Lembre-se que a aceleração gravitacional é um vetor com módulo $|a| = \\frac{c}{d^2}$, onde $c$ é uma constante (na verdade ela tem um significado físico, mas aqui podemos escolher para o valor que deixar sua simulação mais agradável) e $d$ é a distância entre os dois corpos. A aceleração gravitacional aplicada sobre cada partícula sempre aponta para o corpo celeste para onde a partícula está sendo atraída.\n",
    "5. Lembre-se de adicionar uma condição para que a partícula seja reiniciada caso se aproxime demais do corpo celeste.\n",
    "6. Modifique os parâmetros e constantes da sua simulação de forma que seja possível deixar algumas partículas em órbita."
   ]
  },
  {
   "cell_type": "code",
   "execution_count": 43,
   "metadata": {},
   "outputs": [],
   "source": [
    "pygame.init()\n",
    "\n",
    "# Tamanho da tela e definição do FPS\n",
    "screen = pygame.display.set_mode((400, 400))\n",
    "clock = pygame.time.Clock()\n",
    "FPS = 60  # Frames per Second\n",
    "\n",
    "BLACK = (0, 0, 0)\n",
    "COR_PERSONAGEM = (30, 200, 20)\n",
    "\n",
    "# Inicializar posicoes\n",
    "s0 = np.array([50, 200])\n",
    "v0 = np.array([15, -15])\n",
    "a = np.array([0, 0.15])\n",
    "v = [v0 for i in range(50)]\n",
    "s = [s0 for i in range(50)]\n",
    "planeta = np.array([200,200])\n",
    "\n",
    "# Personagem\n",
    "personagem = pygame.Surface((5, 5))  # Tamanho do personagem\n",
    "personagem.fill(COR_PERSONAGEM)  # Cor do personagem\n",
    "\n",
    "rodando = True\n",
    "while rodando:\n",
    "    # Capturar eventos\n",
    "    for event in pygame.event.get():\n",
    "        if event.type == pygame.QUIT:\n",
    "            rodando = False\n",
    "    \n",
    "    for i in range(50):\n",
    "        if s[i][0]<10 or s[i][0]>390 or s[i][1]<10 or s[i][1]>390: # Se eu chegar ao limite da tela, reinicio a posição do personagem\n",
    "            v0 = (pygame.mouse.get_pos() - s0)\n",
    "            v0 = v0 / np.linalg.norm(v0) * 100\n",
    "            v0 = v0 + 3*np.random.randn(2)\n",
    "            s[i], v[i] = s0, v0\n",
    "\n",
    "    # Controlar frame rate\n",
    "    clock.tick(FPS)\n",
    "\n",
    "    # Processar posicoes\n",
    "    for i in range(50):\n",
    "        C = 20000 # constante gravitacional * massa planeta\n",
    "        direcao_a = planeta - s[i] \n",
    "        d = np.linalg.norm(direcao_a)\n",
    "        direcao_a = direcao_a / d\n",
    "\n",
    "        mag_a = C / d**2\n",
    "        a = direcao_a * mag_a\n",
    "\n",
    "        v[i] = v[i] + a\n",
    "        s[i] = s[i] + 0.01 * v[i]\n",
    "\n",
    "    # Desenhar fundo\n",
    "    screen.fill(BLACK)\n",
    "\n",
    "    # Desenhar personagem\n",
    "    for i in range(50):\n",
    "        rect = pygame.Rect(s[i], (10, 10))  # First tuple is position, second is size.\n",
    "        screen.blit(personagem, rect)\n",
    "    planet = pygame.draw.circle(screen, \"red\", planeta, 10, 10)\n",
    "\n",
    "    # Update!\n",
    "    pygame.display.update()\n",
    "\n",
    "# Terminar tela\n",
    "pygame.quit()"
   ]
  },
  {
   "cell_type": "markdown",
   "metadata": {},
   "source": [
    "## Exercício 24: adicionar um novo atrator gravitacional\n",
    "\n",
    "Tomando por base o código que você já tem do exercício 23 (que é o código do exercício 19 modificado!), adicione um novo atrator gravitacional, em um outro ponto da tela. Ao fazer isso, passamos a ter dois corpos celestes exercendo atração gravitacional sobre nossas partículas. Quando isso acontece, a aceleração resultante sobre cada partícula é a soma (vetorial) de cada uma das atrações devidas aos corpos celestes individualmente.\n",
    "\n",
    "Modifique seus parâmetros e interaja com o sistema de forma que algumas partículas fiquem em órbita de um corpo celeste e outras partículas fiquem em órbita do outro corpo celeste.\n"
   ]
  },
  {
   "cell_type": "code",
   "execution_count": 6,
   "metadata": {},
   "outputs": [],
   "source": [
    "pygame.init()\n",
    "\n",
    "# Tamanho da tela e definição do FPS\n",
    "pos = np.array([800,600])\n",
    "screen = pygame.display.set_mode((pos))\n",
    "clock = pygame.time.Clock()\n",
    "FPS = 60  # Frames per Second\n",
    "\n",
    "BLACK = (0, 0, 0)\n",
    "COR_PERSONAGEM = (30, 200, 20)\n",
    "\n",
    "# Inicializar posicoes\n",
    "s0 = np.array([50, 200])\n",
    "v0 = np.array([50, -50])\n",
    "a = np.array([0, 0.15])\n",
    "\n",
    "v = [v0 for i in range(1000)]\n",
    "s = [s0 for i in range(1000)]\n",
    "\n",
    "marte = np.array([pos[0]-500, pos[1]-200])\n",
    "netuno = np.array([pos[0]-200, pos[1]-400])\n",
    "venus = np.array([pos[0]-650, pos[1]-500])\n",
    "\n",
    "# Personagem\n",
    "personagem = pygame.Surface((5, 5))  # Tamanho do personagem\n",
    "personagem.fill(COR_PERSONAGEM)  # Cor do personagem\n",
    "\n",
    "def gravidade(constante, planeta):\n",
    "    direcao_a = planeta - s[i] # constante gravitacional * massa planeta\n",
    "    d = np.linalg.norm(direcao_a)\n",
    "    direcao_a = direcao_a / d\n",
    "    mag_a = constante / d**2\n",
    "    a = direcao_a * mag_a\n",
    "    return a\n",
    "\n",
    "rodando = True\n",
    "while rodando:\n",
    "    # Capturar eventos\n",
    "    for event in pygame.event.get():\n",
    "        if event.type == pygame.QUIT:\n",
    "            rodando = False\n",
    "    \n",
    "    for i in range(1000):\n",
    "        if s[i][0]<5 or s[i][0]>pos[0] or s[i][1]<5 or s[i][1]>pos[1]: # Se eu chegar ao limite da tela, reinicio a posição do personagem\n",
    "            v0 = (pygame.mouse.get_pos() - s0)\n",
    "            v0 = v0 / np.linalg.norm(v0) * 100\n",
    "            v0 = v0 + 3 * np.random.randn(2)\n",
    "            s[i], v[i] = s0, v0\n",
    "\n",
    "    # Controlar frame rate\n",
    "    clock.tick(FPS)\n",
    "\n",
    "    # Processar posicoes\n",
    "    for i in range(1000):\n",
    "        ac_marte = gravidade(30000, marte)\n",
    "        ac_netuno = gravidade(50000, netuno)\n",
    "        ac_venus = gravidade(10000, venus)\n",
    "\n",
    "        a = ac_marte + ac_netuno + ac_venus\n",
    "\n",
    "        v[i] = v[i] + a\n",
    "        s[i] = s[i] + 0.01 * v[i]\n",
    "\n",
    "    # Desenhar fundo\n",
    "    screen.fill(BLACK)\n",
    "\n",
    "    # Desenhar personagem\n",
    "    for i in range(1000):\n",
    "        rect = pygame.Rect(s[i], (10, 10))  # First tuple is position, second is size.\n",
    "        screen.blit(personagem, rect)\n",
    "    planet = pygame.draw.circle(screen, \"red\", marte, 10, 10)\n",
    "    planet2 = pygame.draw.circle(screen, \"blue\", netuno, 10, 10)\n",
    "    planet3 = pygame.draw.circle(screen, \"green\", venus, 10, 10)\n",
    "\n",
    "    # Update!\n",
    "    pygame.display.update()\n",
    "\n",
    "# Terminar tela\n",
    "pygame.quit()"
   ]
  },
  {
   "cell_type": "markdown",
   "metadata": {},
   "source": [
    "# Projeto: jogo estilo \"Angry Birds no espaço\"\n",
    "\n",
    "Neste projeto, faremos um jogo no estilo \"Angry Birds no espaço\".\n",
    "\n",
    "O jogo funciona da seguinte forma:\n",
    "\n",
    "1. O objetivo é acertar um objeto em um alvo (o grupo pode escolher que tipo de objeto se trata).\n",
    "2. O jogador usa um canhão para disparar o objeto, e manipula a direção e módulo da velocidade inicial do objeto usando o *mouse*.\n",
    "3. O objeto, em princípio, navega em movimento uniforme através do espaço.\n",
    "4. Alguns corpos celestes realizam atração gravitacional, desviando a rota do objeto.\n",
    "5. Níveis mais avançados têm mais de um corpo celeste. Pense sobre o que acontece quando há duas acelerações gravitacionais atuando sobre o objeto lançado.\n",
    "6. Use texturas para caracterizar os elementos do jogo!\n",
    "\n",
    "Anotações importantes:\n",
    "\n",
    "1. O grupo de projeto deve definir todos os elementos e parâmetros do jogo pensando em melhorar sua jogabilidade.\n",
    "2. O grupo deve enviar um link para o repositório GitHub onde está localizado o jogo.\n",
    "\n",
    "**ENTREGAS**\n",
    "* Link para o repositório onde está o jogo.\n",
    "* No `README.md` do repositório, inclua uma descrição de como jogar o jogo, como executar o programa, etc.\n",
    "* No `README.md`, inclua uma breve descrição matemática do modelo físico que você implementou.\n",
    "* Inclua também, no próprio `README.md`, um GIF com o gameplay do jogo\n",
    "\n",
    "**RUBRICA**\n",
    "\n",
    "O projeto será avaliado usando a rubrica abaixo. Os níveis são cumulativos, isto é, para passar de um nível, *todos* os requisitos dele devem ser cumpridos. As rubricas foram inspiradas nos níveis da [Taxonomia de Bloom](https://cft.vanderbilt.edu/guides-sub-pages/blooms-taxonomy/).\n",
    "\n",
    "| Nível | Descrição | [Tax. de Bloom](https://cft.vanderbilt.edu/guides-sub-pages/blooms-taxonomy/) |\n",
    "| --- | --- | --- |\n",
    "| F | Não entregue ou entregue sem completar o `README.md` ou entregue sem adições em relação ao código visto em sala | Não fez |\n",
    "| E | O jogo foi entregue, mas o `README.md` não indica como instalar ou rodar o programa. | Entender (-) |\n",
    "| D | O jogo roda com alguns travamentos ou o `README.md` não descreve bem o modelo físico usado ou não tem correpondência com o modelo implementado. | Entender | \n",
    "| C | O jogo funciona sem travar e o `README.md` está completo, mas o jogo está muito difícil de jogar devido à falta de ajuste de parâmetros (exemplo: o jogo está muito rápido). | Compreender |\n",
    "| B | O jogo funciona bem mas o código está muito confuso e sem comentários | Aplicar |\n",
    "| A | jogo obedece a todos os requisitos e o código tem uma correspondência imediata ao modelo físico descrito no `README.md` | Analisar |\n",
    "| A+ | Jogo funciona perfeitamente e, em adição aos requisitos pedidos, tem ao menos uma feature que altera o modelo físico inicialmente proposto (novas formas de interagir com o jogador, ou novos elementos com comportamentos diferentes, por exemplo) | Avaliar |\n",
    "| A++ | O jogo tem features estéticas em adição às texturas (efeitos sonoros, trilha sonora, possibilidade de customizar parâmetros de dentro do próprio jogo, etc.) | Criar |\n"
   ]
  },
  {
   "cell_type": "markdown",
   "metadata": {},
   "source": []
  }
 ],
 "metadata": {
  "kernelspec": {
   "display_name": "Python 3",
   "language": "python",
   "name": "python3"
  },
  "language_info": {
   "codemirror_mode": {
    "name": "ipython",
    "version": 3
   },
   "file_extension": ".py",
   "mimetype": "text/x-python",
   "name": "python",
   "nbconvert_exporter": "python",
   "pygments_lexer": "ipython3",
   "version": "3.11.1"
  },
  "orig_nbformat": 4,
  "vscode": {
   "interpreter": {
    "hash": "a0a68193c040182b386bff8152352f10de271013bfd51585d2ce3cd89f39bece"
   }
  }
 },
 "nbformat": 4,
 "nbformat_minor": 2
}
